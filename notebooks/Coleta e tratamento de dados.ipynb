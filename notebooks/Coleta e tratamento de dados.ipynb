{
 "cells": [
  {
   "cell_type": "markdown",
   "metadata": {},
   "source": [
    "### Imports "
   ]
  },
  {
   "cell_type": "code",
   "execution_count": 81,
   "metadata": {},
   "outputs": [],
   "source": [
    "# Importando bibliotecas principais\n",
    "import pandas as pd\n",
    "import numpy as np\n",
    "import matplotlib.pyplot as plt\n",
    "import seaborn as sns\n",
    "import mysql.connector\n",
    "\n",
    "from sklearn.linear_model import LinearRegression\n",
    "from sklearn.model_selection import train_test_split\n",
    "from sklearn.preprocessing import MinMaxScaler\n",
    "\n",
    "from scipy.stats import zscore\n",
    "\n",
    "\n",
    "\n",
    "# Configurações gerais\n",
    "plt.style.use('ggplot')\n",
    "pd.set_option('display.max_columns', None)"
   ]
  },
  {
   "cell_type": "code",
   "execution_count": 59,
   "metadata": {},
   "outputs": [],
   "source": [
    "# Função para tratar outliers usando o método IQR\n",
    "def treat_outliers_iqr(df, col):\n",
    "    Q1 = df[col].quantile(0.25)\n",
    "    Q3 = df[col].quantile(0.75)\n",
    "    IQR = Q3 - Q1\n",
    "    lower_bound = Q1 - 1.5 * IQR\n",
    "    upper_bound = Q3 + 1.5 * IQR\n",
    "    df[col] = df[col].clip(lower=lower_bound, upper=upper_bound)"
   ]
  },
  {
   "cell_type": "markdown",
   "metadata": {},
   "source": [
    "### Conexão com banco de dados "
   ]
  },
  {
   "cell_type": "code",
   "execution_count": 16,
   "metadata": {},
   "outputs": [],
   "source": [
    "# Credenciais \n",
    "user = 'case_data_scientist'\n",
    "password = 'mP2KQ6vUzi(7siM*'\n",
    "host = '185.213.26.130'\n",
    "database = 'case_data_scientist'\n",
    "port = 6033"
   ]
  },
  {
   "cell_type": "code",
   "execution_count": 17,
   "metadata": {},
   "outputs": [],
   "source": [
    "conn = mysql.connector.connect(\n",
    "    user=user,\n",
    "    password=password,\n",
    "    host=host,\n",
    "    database=database,\n",
    "    port=port\n",
    ")"
   ]
  },
  {
   "cell_type": "code",
   "execution_count": 18,
   "metadata": {},
   "outputs": [],
   "source": [
    "# Criar cursor para executar comandos SQL\n",
    "cursor = conn.cursor()\n",
    "\n",
    "# Consultar  para listar todas as tabelas no banco de dados\n",
    "cursor.execute(\"SHOW TABLES;\")\n",
    "tabelas = cursor.fetchall()"
   ]
  },
  {
   "cell_type": "code",
   "execution_count": 19,
   "metadata": {},
   "outputs": [
    {
     "name": "stdout",
     "output_type": "stream",
     "text": [
      "Tabelas no banco de dados:\n",
      "daumau\n",
      "desinstalacoes\n",
      "installs\n",
      "ratings_reviews\n"
     ]
    }
   ],
   "source": [
    "# Exiba as tabelas encontradas\n",
    "print(\"Tabelas no banco de dados:\")\n",
    "for tabela in tabelas:\n",
    "    print(tabela[0])"
   ]
  },
  {
   "cell_type": "code",
   "execution_count": 20,
   "metadata": {},
   "outputs": [],
   "source": [
    "tabelas = ['daumau', 'desinstalacoes', 'installs', 'ratings_reviews']\n"
   ]
  },
  {
   "cell_type": "code",
   "execution_count": 21,
   "metadata": {},
   "outputs": [
    {
     "name": "stdout",
     "output_type": "stream",
     "text": [
      "Tabela 'daumau' exportada para 'raw_daumau.csv'.\n",
      "Tabela 'desinstalacoes' exportada para 'raw_desinstalacoes.csv'.\n",
      "Tabela 'installs' exportada para 'raw_installs.csv'.\n",
      "Tabela 'ratings_reviews' exportada para 'raw_ratings_reviews.csv'.\n"
     ]
    }
   ],
   "source": [
    "for tabela in tabelas:\n",
    "    # Consulta para selecionar todos os dados da tabela\n",
    "    query = f\"SELECT * FROM {tabela};\"\n",
    "    cursor = conn.cursor()\n",
    "    cursor.execute(query)\n",
    "\n",
    "    # Obtenha os resultados e as colunas\n",
    "    resultados = cursor.fetchall()\n",
    "    colunas = [desc[0] for desc in cursor.description]\n",
    "\n",
    "    # Converta os dados para um DataFrame\n",
    "    df = pd.DataFrame(resultados, columns=colunas)\n",
    "\n",
    "    # Salve o DataFrame em um arquivo CSV\n",
    "    nome_csv = f\"raw_{tabela}.csv\"\n",
    "    df.to_csv(nome_csv, index=False, encoding='utf-8')\n",
    "    print(f\"Tabela '{tabela}' exportada para '{nome_csv}'.\")\n",
    "\n",
    "    # Feche o cursor após cada operação\n",
    "    cursor.close()\n",
    "\n",
    "# Feche a conexão com o banco de dados\n",
    "conn.close()"
   ]
  },
  {
   "cell_type": "code",
   "execution_count": null,
   "metadata": {},
   "outputs": [],
   "source": [
    "# Credenciais \n",
    "user = 'case_data_scientist'\n",
    "password = 'mP2KQ6vUzi(7siM*'\n",
    "host = '185.213.26.130'\n",
    "database = 'case_data_scientist'\n",
    "port = 6033"
   ]
  },
  {
   "cell_type": "code",
   "execution_count": null,
   "metadata": {},
   "outputs": [],
   "source": [
    "conn = mysql.connector.connect(\n",
    "    user=user,\n",
    "    password=password,\n",
    "    host=host,\n",
    "    database=database,\n",
    "    port=port\n",
    ")"
   ]
  },
  {
   "cell_type": "code",
   "execution_count": null,
   "metadata": {},
   "outputs": [],
   "source": [
    "# Criar cursor para executar comandos SQL\n",
    "cursor = conn.cursor()\n",
    "\n",
    "# Consultar  para listar todas as tabelas no banco de dados\n",
    "cursor.execute(\"SHOW TABLES;\")\n",
    "tabelas = cursor.fetchall()"
   ]
  },
  {
   "cell_type": "code",
   "execution_count": null,
   "metadata": {},
   "outputs": [
    {
     "name": "stdout",
     "output_type": "stream",
     "text": [
      "Tabelas no banco de dados:\n",
      "daumau\n",
      "desinstalacoes\n",
      "installs\n",
      "ratings_reviews\n"
     ]
    }
   ],
   "source": [
    "# Exiba as tabelas encontradas\n",
    "print(\"Tabelas no banco de dados:\")\n",
    "for tabela in tabelas:\n",
    "    print(tabela[0])"
   ]
  },
  {
   "cell_type": "code",
   "execution_count": null,
   "metadata": {},
   "outputs": [],
   "source": [
    "tabelas = ['daumau', 'desinstalacoes', 'installs', 'ratings_reviews']\n"
   ]
  },
  {
   "cell_type": "code",
   "execution_count": null,
   "metadata": {},
   "outputs": [
    {
     "name": "stdout",
     "output_type": "stream",
     "text": [
      "Tabela 'daumau' exportada para 'raw_daumau.csv'.\n",
      "Tabela 'desinstalacoes' exportada para 'raw_desinstalacoes.csv'.\n",
      "Tabela 'installs' exportada para 'raw_installs.csv'.\n",
      "Tabela 'ratings_reviews' exportada para 'raw_ratings_reviews.csv'.\n"
     ]
    }
   ],
   "source": [
    "for tabela in tabelas:\n",
    "    # Consulta para selecionar todos os dados da tabela\n",
    "    query = f\"SELECT * FROM {tabela};\"\n",
    "    cursor = conn.cursor()\n",
    "    cursor.execute(query)\n",
    "\n",
    "    # Obtenha os resultados e as colunas\n",
    "    resultados = cursor.fetchall()\n",
    "    colunas = [desc[0] for desc in cursor.description]\n",
    "\n",
    "    # Converta os dados para um DataFrame\n",
    "    df = pd.DataFrame(resultados, columns=colunas)\n",
    "\n",
    "    # Salve o DataFrame em um arquivo CSV\n",
    "    nome_csv = f\"raw_{tabela}.csv\"\n",
    "    df.to_csv(nome_csv, index=False, encoding='utf-8')\n",
    "    print(f\"Tabela '{tabela}' exportada para '{nome_csv}'.\")\n",
    "\n",
    "    # Feche o cursor após cada operação\n",
    "    cursor.close()\n",
    "\n",
    "# Feche a conexão com o banco de dados\n",
    "conn.close()"
   ]
  },
  {
   "cell_type": "markdown",
   "metadata": {},
   "source": [
    "### Import Data"
   ]
  },
  {
   "cell_type": "code",
   "execution_count": 5,
   "metadata": {},
   "outputs": [],
   "source": [
    "df_daumau = pd.read_csv(r\"C:\\Users\\User\\Documents\\Estudos Ciencia de dados\\case\\data\\raw_daumau.csv\")\n",
    "df_desinstalacoes = pd.read_csv(r\"C:\\Users\\User\\Documents\\Estudos Ciencia de dados\\case\\data\\raw_desinstalacoes.csv\")\n",
    "df_installs = pd.read_csv(r\"C:\\Users\\User\\Documents\\Estudos Ciencia de dados\\case\\data\\raw_installs.csv\")\n",
    "df_ratings = pd.read_csv(r\"C:\\Users\\User\\Documents\\Estudos Ciencia de dados\\case\\data\\raw_ratings_reviews.csv\")"
   ]
  },
  {
   "cell_type": "code",
   "execution_count": 6,
   "metadata": {},
   "outputs": [
    {
     "name": "stdout",
     "output_type": "stream",
     "text": [
      "Dataset: Ratings\n",
      "<class 'pandas.core.frame.DataFrame'>\n",
      "RangeIndex: 47155 entries, 0 to 47154\n",
      "Data columns (total 7 columns):\n",
      " #   Column         Non-Null Count  Dtype  \n",
      "---  ------         --------------  -----  \n",
      " 0   date           47155 non-null  object \n",
      " 1   appid          47155 non-null  object \n",
      " 2   category       47155 non-null  object \n",
      " 3   ratings        47155 non-null  float64\n",
      " 4   daily_ratings  47155 non-null  float64\n",
      " 5   reviews        47155 non-null  float64\n",
      " 6   daily_reviews  47155 non-null  float64\n",
      "dtypes: float64(4), object(3)\n",
      "memory usage: 2.5+ MB\n",
      "None\n",
      "              date          appid category       ratings  daily_ratings  \\\n",
      "count        47155          47155    47155  4.715500e+04   47155.000000   \n",
      "unique         274            182        6           NaN            NaN   \n",
      "top     2024-02-06  com.app.40009  FINANCE           NaN            NaN   \n",
      "freq           174            274    18667           NaN            NaN   \n",
      "mean           NaN            NaN      NaN  3.655470e+05     149.257173   \n",
      "std            NaN            NaN      NaN  1.231673e+06     591.007870   \n",
      "min            NaN            NaN      NaN  1.000000e+01    -711.000000   \n",
      "25%            NaN            NaN      NaN  8.400000e+03       2.000000   \n",
      "50%            NaN            NaN      NaN  4.392200e+04      12.000000   \n",
      "75%            NaN            NaN      NaN  2.044095e+05      74.000000   \n",
      "max            NaN            NaN      NaN  1.323622e+07   34180.000000   \n",
      "\n",
      "             reviews  daily_reviews  \n",
      "count   4.715500e+04   47155.000000  \n",
      "unique           NaN            NaN  \n",
      "top              NaN            NaN  \n",
      "freq             NaN            NaN  \n",
      "mean    9.428167e+04      21.647673  \n",
      "std     2.348399e+05      68.893436  \n",
      "min     4.000000e+00     -75.000000  \n",
      "25%     2.572000e+03       0.000000  \n",
      "50%     1.347000e+04       3.000000  \n",
      "75%     5.027700e+04      12.000000  \n",
      "max     1.491128e+06    2290.000000   \n",
      "\n",
      "\n",
      "Dataset: Installs\n",
      "<class 'pandas.core.frame.DataFrame'>\n",
      "RangeIndex: 48150 entries, 0 to 48149\n",
      "Data columns (total 3 columns):\n",
      " #   Column       Non-Null Count  Dtype \n",
      "---  ------       --------------  ----- \n",
      " 0   appid        48150 non-null  object\n",
      " 1   date         48150 non-null  object\n",
      " 2   newinstalls  48150 non-null  int64 \n",
      "dtypes: int64(1), object(2)\n",
      "memory usage: 1.1+ MB\n",
      "None\n",
      "                appid        date   newinstalls\n",
      "count           48150       48150  48150.000000\n",
      "unique            182         281           NaN\n",
      "top     com.app.86367  2024-08-19           NaN\n",
      "freq              282         342           NaN\n",
      "mean              NaN         NaN   4116.128058\n",
      "std               NaN         NaN   8873.375551\n",
      "min               NaN         NaN      0.000000\n",
      "25%               NaN         NaN    255.000000\n",
      "50%               NaN         NaN    865.500000\n",
      "75%               NaN         NaN   2969.000000\n",
      "max               NaN         NaN  73886.000000 \n",
      "\n",
      "\n",
      "Dataset: Desinstalações\n",
      "<class 'pandas.core.frame.DataFrame'>\n",
      "RangeIndex: 53188 entries, 0 to 53187\n",
      "Data columns (total 5 columns):\n",
      " #   Column          Non-Null Count  Dtype \n",
      "---  ------          --------------  ----- \n",
      " 0   appId           53188 non-null  object\n",
      " 1   date            53188 non-null  object\n",
      " 2   country         53188 non-null  object\n",
      " 3   lang            53188 non-null  object\n",
      " 4   predictionLoss  53188 non-null  int64 \n",
      "dtypes: int64(1), object(4)\n",
      "memory usage: 2.0+ MB\n",
      "None\n",
      "                appId        date country   lang  predictionLoss\n",
      "count           53188       53188   53188  53188    53188.000000\n",
      "unique            195         281       1      1             NaN\n",
      "top     com.app.33540  2024-05-09      br     pt             NaN\n",
      "freq              281         192   53188  53188             NaN\n",
      "mean              NaN         NaN     NaN    NaN    11960.170226\n",
      "std               NaN         NaN     NaN    NaN    23733.220071\n",
      "min               NaN         NaN     NaN    NaN      331.000000\n",
      "25%               NaN         NaN     NaN    NaN     1760.000000\n",
      "50%               NaN         NaN     NaN    NaN     3275.500000\n",
      "75%               NaN         NaN     NaN    NaN     8728.000000\n",
      "max               NaN         NaN     NaN    NaN   189683.000000 \n",
      "\n",
      "\n",
      "Dataset: DAU/MAU\n",
      "<class 'pandas.core.frame.DataFrame'>\n",
      "RangeIndex: 41299 entries, 0 to 41298\n",
      "Data columns (total 4 columns):\n",
      " #   Column   Non-Null Count  Dtype  \n",
      "---  ------   --------------  -----  \n",
      " 0   appId    41271 non-null  object \n",
      " 1   date     41299 non-null  object \n",
      " 2   dauReal  41105 non-null  float64\n",
      " 3   mauReal  41279 non-null  float64\n",
      "dtypes: float64(2), object(2)\n",
      "memory usage: 1.3+ MB\n",
      "None\n",
      "                appId        date       dauReal       mauReal\n",
      "count           41271       41299  4.110500e+04  4.127900e+04\n",
      "unique            195         348           NaN           NaN\n",
      "top     com.app.53788  2024-01-12           NaN           NaN\n",
      "freq              278         223           NaN           NaN\n",
      "mean              NaN         NaN  4.401472e+05  1.912599e+06\n",
      "std               NaN         NaN  1.336407e+06  4.786171e+06\n",
      "min               NaN         NaN  7.500000e+02  7.500000e+02\n",
      "25%               NaN         NaN  8.661000e+03  7.810500e+04\n",
      "50%               NaN         NaN  3.103700e+04  2.310740e+05\n",
      "75%               NaN         NaN  1.629820e+05  8.562360e+05\n",
      "max               NaN         NaN  1.064815e+07  2.960584e+07 \n",
      "\n",
      "\n"
     ]
    }
   ],
   "source": [
    "for name, df in zip(['Ratings', 'Installs', 'Desinstalações', 'DAU/MAU'], \n",
    "                    [df_ratings, df_installs, df_desinstalacoes, df_daumau]):\n",
    "    print(f\"Dataset: {name}\")\n",
    "    print(df.info())\n",
    "    print(df.describe(include='all'), '\\n\\n')"
   ]
  },
  {
   "cell_type": "markdown",
   "metadata": {},
   "source": [
    "#### ratings\n",
    "\n",
    "- Análise:\n",
    "\n",
    "   - Identificar duplicados.\n",
    "   -  Analisar distribuição de variáveis numéricas.\n",
    "   - Tratar nulos\n",
    "   - Visualizar correlações."
   ]
  },
  {
   "cell_type": "code",
   "execution_count": 7,
   "metadata": {},
   "outputs": [
    {
     "name": "stdout",
     "output_type": "stream",
     "text": [
      "Duplicados em df_ratings: 0\n",
      "Valores ausentes por coluna:\n",
      "date             0\n",
      "appid            0\n",
      "category         0\n",
      "ratings          0\n",
      "daily_ratings    0\n",
      "reviews          0\n",
      "daily_reviews    0\n",
      "dtype: int64\n"
     ]
    }
   ],
   "source": [
    "# Duplicados\n",
    "print(f\"Duplicados em df_ratings: {df_ratings.duplicated().sum()}\")\n",
    "\n",
    "# Nulos\n",
    "print(\"Valores ausentes por coluna:\")\n",
    "print(df_ratings.isnull().sum())"
   ]
  },
  {
   "cell_type": "code",
   "execution_count": 8,
   "metadata": {},
   "outputs": [
    {
     "name": "stdout",
     "output_type": "stream",
     "text": [
      "            ratings  daily_ratings       reviews  daily_reviews\n",
      "count  4.715500e+04   47155.000000  4.715500e+04   47155.000000\n",
      "mean   3.655470e+05     149.257173  9.428167e+04      21.647673\n",
      "std    1.231673e+06     591.007870  2.348399e+05      68.893436\n",
      "min    1.000000e+01    -711.000000  4.000000e+00     -75.000000\n",
      "25%    8.400000e+03       2.000000  2.572000e+03       0.000000\n",
      "50%    4.392200e+04      12.000000  1.347000e+04       3.000000\n",
      "75%    2.044095e+05      74.000000  5.027700e+04      12.000000\n",
      "max    1.323622e+07   34180.000000  1.491128e+06    2290.000000\n"
     ]
    }
   ],
   "source": [
    "# Estatísticas descritivas\n",
    "print(df_ratings.describe())"
   ]
  },
  {
   "cell_type": "code",
   "execution_count": 9,
   "metadata": {},
   "outputs": [
    {
     "data": {
      "image/png": "[encoded data removed]",
      "text/plain": [
       "<Figure size 640x480 with 1 Axes>"
      ]
     },
     "metadata": {},
     "output_type": "display_data"
    }
   ],
   "source": [
    "# Distribuição de ratings\n",
    "sns.histplot(df_ratings['ratings'], kde=True)\n",
    "plt.title('Distribuição de Ratings')\n",
    "plt.show()"
   ]
  },
  {
   "cell_type": "code",
   "execution_count": 27,
   "metadata": {},
   "outputs": [
    {
     "data": {
      "image/png": "[encoded data removed]",
      "text/plain": [
       "<Figure size 1200x500 with 2 Axes>"
      ]
     },
     "metadata": {},
     "output_type": "display_data"
    }
   ],
   "source": [
    "# Análise visual de outliers\n",
    "fig, axes = plt.subplots(1, 2, figsize=(12, 5))\n",
    "sns.boxplot(y=df_ratings['ratings'], ax=axes[0])\n",
    "sns.boxplot(y=df_ratings['daily_ratings'], ax=axes[1])\n",
    "axes[0].set_title('Outliers em Ratings')\n",
    "axes[1].set_title('Outliers em Daily Ratings')\n",
    "plt.show()"
   ]
  },
  {
   "cell_type": "code",
   "execution_count": 28,
   "metadata": {},
   "outputs": [],
   "source": [
    "# Definindo limites de IQR\n",
    "def treat_outliers_iqr(df, column):\n",
    "    Q1 = df[column].quantile(0.25)\n",
    "    Q3 = df[column].quantile(0.75)\n",
    "    IQR = Q3 - Q1\n",
    "    lower_limit = Q1 - 1.5 * IQR\n",
    "    upper_limit = Q3 + 1.5 * IQR\n",
    "    return np.clip(df[column], lower_limit, upper_limit)"
   ]
  },
  {
   "cell_type": "code",
   "execution_count": 29,
   "metadata": {},
   "outputs": [],
   "source": [
    "# Aplicando o tratamento\n",
    "df_ratings['ratings'] = treat_outliers_iqr(df_ratings, 'ratings')\n",
    "df_ratings['daily_ratings'] = treat_outliers_iqr(df_ratings, 'daily_ratings')"
   ]
  },
  {
   "cell_type": "markdown",
   "metadata": {},
   "source": [
    "#### Installs\n",
    "\n",
    "- Análise:\n",
    "  - Distribuição de newinstalls.\n",
    "  - Identificação de sazonalidades (gráfico temporal).\n",
    "  - Verificar outliers."
   ]
  },
  {
   "cell_type": "code",
   "execution_count": 10,
   "metadata": {},
   "outputs": [
    {
     "name": "stdout",
     "output_type": "stream",
     "text": [
      "Duplicados em df_ratings: 171\n",
      "Valores ausentes por coluna:\n",
      "appid          0\n",
      "date           0\n",
      "newinstalls    0\n",
      "dtype: int64\n"
     ]
    }
   ],
   "source": [
    "# Duplicados\n",
    "print(f\"Duplicados em df_ratings: {df_installs.duplicated().sum()}\")\n",
    "\n",
    "# Nulos\n",
    "print(\"Valores ausentes por coluna:\")\n",
    "print(df_installs.isnull().sum())"
   ]
  },
  {
   "cell_type": "code",
   "execution_count": 30,
   "metadata": {},
   "outputs": [
    {
     "data": {
      "image/png": "[encoded data removed]",
      "text/plain": [
       "<Figure size 640x480 with 1 Axes>"
      ]
     },
     "metadata": {},
     "output_type": "display_data"
    }
   ],
   "source": [
    "# Visualização de outliers\n",
    "sns.boxplot(y=df_installs['newinstalls'])\n",
    "plt.title('Outliers em New Installs')\n",
    "plt.show()"
   ]
  },
  {
   "cell_type": "code",
   "execution_count": 31,
   "metadata": {},
   "outputs": [],
   "source": [
    "# Tratamento por percentis\n",
    "p1 = df_installs['newinstalls'].quantile(0.01)\n",
    "p99 = df_installs['newinstalls'].quantile(0.99)\n",
    "df_installs['newinstalls'] = np.clip(df_installs['newinstalls'], p1, p99)"
   ]
  },
  {
   "cell_type": "code",
   "execution_count": 32,
   "metadata": {},
   "outputs": [
    {
     "data": {
      "image/png": "[encoded data removed]",
      "text/plain": [
       "<Figure size 1000x500 with 1 Axes>"
      ]
     },
     "metadata": {},
     "output_type": "display_data"
    }
   ],
   "source": [
    "# Séries temporais\n",
    "df_installs['date'] = pd.to_datetime(df_installs['date'])\n",
    "df_installs.groupby('date')['newinstalls'].sum().plot(figsize=(10, 5))\n",
    "plt.title('Novas Instalações ao Longo do Tempo')\n",
    "plt.show()\n"
   ]
  },
  {
   "cell_type": "markdown",
   "metadata": {},
   "source": [
    "#### desinstalacoes\n",
    "\n",
    "- Análise:\n",
    "  - Impacto de predictionLoss sobre DAU.\n",
    "  - Remoção de colunas irrelevantes (country, lang)."
   ]
  },
  {
   "cell_type": "code",
   "execution_count": 14,
   "metadata": {},
   "outputs": [
    {
     "name": "stdout",
     "output_type": "stream",
     "text": [
      "Duplicados em df_ratings: 0\n",
      "Valores ausentes por coluna:\n",
      "appId             0\n",
      "date              0\n",
      "country           0\n",
      "lang              0\n",
      "predictionLoss    0\n",
      "dtype: int64\n"
     ]
    }
   ],
   "source": [
    "# Duplicados\n",
    "print(f\"Duplicados em df_ratings: {df_desinstalacoes.duplicated().sum()}\")\n",
    "\n",
    "# Nulos\n",
    "print(\"Valores ausentes por coluna:\")\n",
    "print(df_desinstalacoes.isnull().sum())"
   ]
  },
  {
   "cell_type": "code",
   "execution_count": 15,
   "metadata": {},
   "outputs": [
    {
     "data": {
      "image/png": "[encoded data removed]",
      "text/plain": [
       "<Figure size 640x480 with 1 Axes>"
      ]
     },
     "metadata": {},
     "output_type": "display_data"
    }
   ],
   "source": [
    "# Distribuição de predictionLoss\n",
    "sns.histplot(df_desinstalacoes['predictionLoss'], kde=True)\n",
    "plt.title('Distribuição de Perda de Usuários (predictionLoss)')\n",
    "plt.show()"
   ]
  },
  {
   "cell_type": "code",
   "execution_count": 16,
   "metadata": {},
   "outputs": [],
   "source": [
    "# Tratamento\n",
    "df_desinstalacoes = df_desinstalacoes[['appId', 'date', 'predictionLoss']]"
   ]
  },
  {
   "cell_type": "code",
   "execution_count": 35,
   "metadata": {},
   "outputs": [],
   "source": [
    "# Garantindo que tenho meus valores en z score menor que 3 \n",
    "z_scores = zscore(df_desinstalacoes['predictionLoss'])\n",
    "abs_z_scores = np.abs(z_scores)\n",
    "df_desinstalacoes = df_desinstalacoes[abs_z_scores < 3]  # Removendo z-scores maiores que 3"
   ]
  },
  {
   "cell_type": "markdown",
   "metadata": {},
   "source": [
    "#### Daumau"
   ]
  },
  {
   "cell_type": "code",
   "execution_count": 17,
   "metadata": {},
   "outputs": [
    {
     "name": "stdout",
     "output_type": "stream",
     "text": [
      "Duplicados em df_daumau: 153\n",
      "Valores ausentes por coluna:\n",
      "appId       28\n",
      "date         0\n",
      "dauReal    194\n",
      "mauReal     20\n",
      "dtype: int64\n"
     ]
    }
   ],
   "source": [
    "# Duplicados\n",
    "print(f\"Duplicados em df_daumau: {df_daumau.duplicated().sum()}\")\n",
    "\n",
    "# Nulos\n",
    "print(\"Valores ausentes por coluna:\")\n",
    "print(df_daumau.isnull().sum())"
   ]
  },
  {
   "cell_type": "code",
   "execution_count": 18,
   "metadata": {},
   "outputs": [
    {
     "name": "stdout",
     "output_type": "stream",
     "text": [
      "Duplicados antes: 153\n",
      "Duplicados depois: 0\n"
     ]
    }
   ],
   "source": [
    "# Remoção de duplicados\n",
    "print(f\"Duplicados antes: {df_daumau.duplicated().sum()}\")\n",
    "df_daumau.drop_duplicates(inplace=True)\n",
    "print(f\"Duplicados depois: {df_daumau.duplicated().sum()}\")"
   ]
  },
  {
   "cell_type": "code",
   "execution_count": 19,
   "metadata": {},
   "outputs": [
    {
     "name": "stdout",
     "output_type": "stream",
     "text": [
      "Registros antes de remover appId nulo: 41146\n",
      "Registros após remover appId nulo: 41118\n"
     ]
    }
   ],
   "source": [
    "# Remoção de registros com appId ausente\n",
    "print(f\"Registros antes de remover appId nulo: {len(df_daumau)}\")\n",
    "df_daumau = df_daumau[~df_daumau['appId'].isnull()]\n",
    "print(f\"Registros após remover appId nulo: {len(df_daumau)}\")"
   ]
  },
  {
   "cell_type": "code",
   "execution_count": 20,
   "metadata": {},
   "outputs": [
    {
     "name": "stdout",
     "output_type": "stream",
     "text": [
      "Correlação entre dauReal e mauReal:\n",
      "          dauReal   mauReal\n",
      "dauReal  1.000000  0.901444\n",
      "mauReal  0.901444  1.000000\n"
     ]
    },
    {
     "data": {
      "image/png": "[encoded data removed]",
      "text/plain": [
       "<Figure size 640x480 with 1 Axes>"
      ]
     },
     "metadata": {},
     "output_type": "display_data"
    }
   ],
   "source": [
    "# Correlação entre dauReal e mauReal\n",
    "correlation = df_daumau[['dauReal', 'mauReal']].corr()\n",
    "print(\"Correlação entre dauReal e mauReal:\")\n",
    "print(correlation)\n",
    "\n",
    "# gráfico de dispersão\n",
    "sns.scatterplot(x='mauReal', y='dauReal', data=df_daumau)\n",
    "plt.title(\"Relação entre DAU Real e MAU Real\")\n",
    "plt.show()"
   ]
  },
  {
   "cell_type": "code",
   "execution_count": 21,
   "metadata": {},
   "outputs": [
    {
     "name": "stdout",
     "output_type": "stream",
     "text": [
      "Coeficiente: 0.25123804658626814\n",
      "Intercepto: -42440.407685591956\n"
     ]
    }
   ],
   "source": [
    "# Separando os registros completos para treinar o modelo\n",
    "complete_data = df_daumau.dropna(subset=['dauReal', 'mauReal'])\n",
    "X = complete_data[['mauReal']]\n",
    "y = complete_data['dauReal']\n",
    "\n",
    "# Treinamento do modelo de regressão linear\n",
    "model = LinearRegression()\n",
    "model.fit(X, y)\n",
    "\n",
    "# Coeficientes da regressão\n",
    "print(\"Coeficiente:\", model.coef_[0])\n",
    "print(\"Intercepto:\", model.intercept_)"
   ]
  },
  {
   "cell_type": "code",
   "execution_count": 22,
   "metadata": {},
   "outputs": [],
   "source": [
    "# Identificando os registros com valores ausentes em dauReal\n",
    "missing_data = df_daumau[df_daumau['dauReal'].isnull()]\n",
    "\n",
    "# Prevendo os valores ausentes\n",
    "predicted_dau = model.predict(missing_data[['mauReal']])\n",
    "\n",
    "# Substituindo os valores ausentes por previsões\n",
    "df_daumau.loc[missing_data.index, 'dauReal'] = predicted_dau"
   ]
  },
  {
   "cell_type": "code",
   "execution_count": 23,
   "metadata": {},
   "outputs": [
    {
     "name": "stdout",
     "output_type": "stream",
     "text": [
      "Valores ausentes em dauReal após preenchimento: 0\n"
     ]
    }
   ],
   "source": [
    "# Verificando se ainda há valores ausentes em dauReal\n",
    "print(\"Valores ausentes em dauReal após preenchimento:\", df_daumau['dauReal'].isnull().sum())\n"
   ]
  },
  {
   "cell_type": "code",
   "execution_count": 12,
   "metadata": {},
   "outputs": [
    {
     "data": {
      "image/png": "[encoded data removed]",
      "text/plain": [
       "<Figure size 640x480 with 1 Axes>"
      ]
     },
     "metadata": {},
     "output_type": "display_data"
    }
   ],
   "source": [
    "# Distribuição de DAU\n",
    "sns.histplot(df_daumau['dauReal'], kde=True)\n",
    "plt.title('Distribuição de DAU Real')\n",
    "plt.show()"
   ]
  },
  {
   "cell_type": "code",
   "execution_count": 36,
   "metadata": {},
   "outputs": [
    {
     "data": {
      "image/png": "[encoded data removed]",
      "text/plain": [
       "<Figure size 640x480 with 1 Axes>"
      ]
     },
     "metadata": {},
     "output_type": "display_data"
    }
   ],
   "source": [
    "# Visualização de outliers\n",
    "sns.boxplot(y=df_daumau['dauReal'])\n",
    "plt.title('Outliers em DAU Real')\n",
    "plt.show()"
   ]
  },
  {
   "cell_type": "code",
   "execution_count": 38,
   "metadata": {},
   "outputs": [],
   "source": [
    "# Tratamento com IQR\n",
    "df_daumau.loc[:, 'dauReal'] = treat_outliers_iqr(df_daumau, 'dauReal')\n"
   ]
  },
  {
   "cell_type": "markdown",
   "metadata": {},
   "source": [
    "#### Consolidação dos dados df final "
   ]
  },
  {
   "cell_type": "code",
   "execution_count": 43,
   "metadata": {},
   "outputs": [],
   "source": [
    "# Padronizando o nome da coluna chave em todos os DataFrames\n",
    "df_ratings = df_ratings.rename(columns={\"appid\": \"appId\"})\n",
    "df_installs = df_installs.rename(columns={\"appid\": \"appId\"})\n",
    "df_desinstalacoes = df_desinstalacoes.rename(columns={\"appId\": \"appId\"})\n",
    "df_daumau = df_daumau.rename(columns={\"appId\": \"appId\"})"
   ]
  },
  {
   "cell_type": "code",
   "execution_count": 47,
   "metadata": {},
   "outputs": [],
   "source": [
    "# Garantindo que a coluna \"date\" seja do tipo datetime em todos os DataFrames\n",
    "df_daumau['date'] = pd.to_datetime(df_daumau['date'])\n",
    "df_ratings['date'] = pd.to_datetime(df_ratings['date'])\n",
    "df_installs['date'] = pd.to_datetime(df_installs['date'])\n",
    "df_desinstalacoes['date'] = pd.to_datetime(df_desinstalacoes['date'])"
   ]
  },
  {
   "cell_type": "code",
   "execution_count": 48,
   "metadata": {},
   "outputs": [],
   "source": [
    "df_final = df_daumau.merge(df_ratings, on=[\"appId\", \"date\"], how=\"inner\")\n",
    "df_final = df_final.merge(df_installs, on=[\"appId\", \"date\"], how=\"inner\")\n",
    "df_final = df_final.merge(df_desinstalacoes, on=[\"appId\", \"date\"], how=\"inner\")"
   ]
  },
  {
   "cell_type": "code",
   "execution_count": 52,
   "metadata": {},
   "outputs": [
    {
     "name": "stdout",
     "output_type": "stream",
     "text": [
      "Tamanho do DataFrame consolidado: (36936, 11)\n"
     ]
    }
   ],
   "source": [
    "# Examinando o DataFrame consolidado\n",
    "print(\"Tamanho do DataFrame consolidado:\", df_final.shape)"
   ]
  },
  {
   "cell_type": "code",
   "execution_count": 53,
   "metadata": {},
   "outputs": [
    {
     "name": "stdout",
     "output_type": "stream",
     "text": [
      "Duplicados no DataFrame consolidado: 135\n",
      "Valores ausentes por coluna:\n",
      "appId             0\n",
      "date              0\n",
      "dauReal           0\n",
      "mauReal           0\n",
      "category          0\n",
      "ratings           0\n",
      "daily_ratings     0\n",
      "reviews           0\n",
      "daily_reviews     0\n",
      "newinstalls       0\n",
      "predictionLoss    0\n",
      "dtype: int64\n"
     ]
    }
   ],
   "source": [
    "# Verificando duplicados\n",
    "print(\"Duplicados no DataFrame consolidado:\", df_final.duplicated().sum())\n",
    "\n",
    "# Verificando valores ausentes\n",
    "print(\"Valores ausentes por coluna:\")\n",
    "print(df_final.isnull().sum())\n"
   ]
  },
  {
   "cell_type": "code",
   "execution_count": 63,
   "metadata": {},
   "outputs": [],
   "source": [
    "df_final = df_final.rename(columns={\"dauReal\": \"target\"})\n"
   ]
  },
  {
   "cell_type": "code",
   "execution_count": 107,
   "metadata": {},
   "outputs": [
    {
     "data": {
      "text/html": [
       "<div>\n",
       "<style scoped>\n",
       "    .dataframe tbody tr th:only-of-type {\n",
       "        vertical-align: middle;\n",
       "    }\n",
       "\n",
       "    .dataframe tbody tr th {\n",
       "        vertical-align: top;\n",
       "    }\n",
       "\n",
       "    .dataframe thead th {\n",
       "        text-align: right;\n",
       "    }\n",
       "</style>\n",
       "<table border=\"1\" class=\"dataframe\">\n",
       "  <thead>\n",
       "    <tr style=\"text-align: right;\">\n",
       "      <th></th>\n",
       "      <th>appId</th>\n",
       "      <th>date</th>\n",
       "      <th>target</th>\n",
       "      <th>mauReal</th>\n",
       "      <th>category</th>\n",
       "      <th>ratings</th>\n",
       "      <th>daily_ratings</th>\n",
       "      <th>reviews</th>\n",
       "      <th>daily_reviews</th>\n",
       "      <th>newinstalls</th>\n",
       "      <th>predictionLoss</th>\n",
       "    </tr>\n",
       "  </thead>\n",
       "  <tbody>\n",
       "    <tr>\n",
       "      <th>0</th>\n",
       "      <td>33540</td>\n",
       "      <td>2024-01-01</td>\n",
       "      <td>346352.125</td>\n",
       "      <td>1.000000</td>\n",
       "      <td>1</td>\n",
       "      <td>0.510261</td>\n",
       "      <td>1.000000</td>\n",
       "      <td>0.698710</td>\n",
       "      <td>1.000</td>\n",
       "      <td>1.000000</td>\n",
       "      <td>0.397742</td>\n",
       "    </tr>\n",
       "    <tr>\n",
       "      <th>1</th>\n",
       "      <td>33540</td>\n",
       "      <td>2024-01-02</td>\n",
       "      <td>346352.125</td>\n",
       "      <td>1.000000</td>\n",
       "      <td>1</td>\n",
       "      <td>0.510938</td>\n",
       "      <td>1.000000</td>\n",
       "      <td>0.699102</td>\n",
       "      <td>1.000</td>\n",
       "      <td>1.000000</td>\n",
       "      <td>0.487292</td>\n",
       "    </tr>\n",
       "    <tr>\n",
       "      <th>2</th>\n",
       "      <td>31679</td>\n",
       "      <td>2024-01-01</td>\n",
       "      <td>157532.000</td>\n",
       "      <td>0.741045</td>\n",
       "      <td>1</td>\n",
       "      <td>0.633285</td>\n",
       "      <td>0.845996</td>\n",
       "      <td>1.000000</td>\n",
       "      <td>0.825</td>\n",
       "      <td>0.349401</td>\n",
       "      <td>0.197556</td>\n",
       "    </tr>\n",
       "    <tr>\n",
       "      <th>3</th>\n",
       "      <td>31679</td>\n",
       "      <td>2024-01-02</td>\n",
       "      <td>313847.000</td>\n",
       "      <td>0.741076</td>\n",
       "      <td>1</td>\n",
       "      <td>0.633586</td>\n",
       "      <td>1.000000</td>\n",
       "      <td>1.000000</td>\n",
       "      <td>0.700</td>\n",
       "      <td>0.348916</td>\n",
       "      <td>0.279270</td>\n",
       "    </tr>\n",
       "    <tr>\n",
       "      <th>4</th>\n",
       "      <td>77385</td>\n",
       "      <td>2024-01-01</td>\n",
       "      <td>239768.000</td>\n",
       "      <td>1.000000</td>\n",
       "      <td>1</td>\n",
       "      <td>0.449806</td>\n",
       "      <td>1.000000</td>\n",
       "      <td>0.677152</td>\n",
       "      <td>0.975</td>\n",
       "      <td>0.507279</td>\n",
       "      <td>0.208383</td>\n",
       "    </tr>\n",
       "    <tr>\n",
       "      <th>...</th>\n",
       "      <td>...</td>\n",
       "      <td>...</td>\n",
       "      <td>...</td>\n",
       "      <td>...</td>\n",
       "      <td>...</td>\n",
       "      <td>...</td>\n",
       "      <td>...</td>\n",
       "      <td>...</td>\n",
       "      <td>...</td>\n",
       "      <td>...</td>\n",
       "      <td>...</td>\n",
       "    </tr>\n",
       "    <tr>\n",
       "      <th>36931</th>\n",
       "      <td>16773</td>\n",
       "      <td>2024-09-30</td>\n",
       "      <td>346352.125</td>\n",
       "      <td>1.000000</td>\n",
       "      <td>1</td>\n",
       "      <td>0.346762</td>\n",
       "      <td>0.981520</td>\n",
       "      <td>0.670885</td>\n",
       "      <td>1.000</td>\n",
       "      <td>0.965545</td>\n",
       "      <td>0.320049</td>\n",
       "    </tr>\n",
       "    <tr>\n",
       "      <th>36932</th>\n",
       "      <td>91093</td>\n",
       "      <td>2024-09-30</td>\n",
       "      <td>346352.125</td>\n",
       "      <td>1.000000</td>\n",
       "      <td>1</td>\n",
       "      <td>0.484893</td>\n",
       "      <td>1.000000</td>\n",
       "      <td>0.963258</td>\n",
       "      <td>1.000</td>\n",
       "      <td>0.923649</td>\n",
       "      <td>0.360468</td>\n",
       "    </tr>\n",
       "    <tr>\n",
       "      <th>36933</th>\n",
       "      <td>39058</td>\n",
       "      <td>2024-09-30</td>\n",
       "      <td>16980.000</td>\n",
       "      <td>0.064101</td>\n",
       "      <td>1</td>\n",
       "      <td>0.005872</td>\n",
       "      <td>0.336756</td>\n",
       "      <td>0.010137</td>\n",
       "      <td>0.450</td>\n",
       "      <td>0.044969</td>\n",
       "      <td>0.071248</td>\n",
       "    </tr>\n",
       "    <tr>\n",
       "      <th>36934</th>\n",
       "      <td>79754</td>\n",
       "      <td>2024-09-30</td>\n",
       "      <td>7996.000</td>\n",
       "      <td>0.068639</td>\n",
       "      <td>3</td>\n",
       "      <td>0.311208</td>\n",
       "      <td>1.000000</td>\n",
       "      <td>0.078638</td>\n",
       "      <td>0.725</td>\n",
       "      <td>0.092365</td>\n",
       "      <td>0.398773</td>\n",
       "    </tr>\n",
       "    <tr>\n",
       "      <th>36935</th>\n",
       "      <td>91390</td>\n",
       "      <td>2024-09-30</td>\n",
       "      <td>33028.000</td>\n",
       "      <td>0.095028</td>\n",
       "      <td>0</td>\n",
       "      <td>0.386401</td>\n",
       "      <td>0.427105</td>\n",
       "      <td>0.950451</td>\n",
       "      <td>0.825</td>\n",
       "      <td>0.114203</td>\n",
       "      <td>0.715987</td>\n",
       "    </tr>\n",
       "  </tbody>\n",
       "</table>\n",
       "<p>36936 rows × 11 columns</p>\n",
       "</div>"
      ],
      "text/plain": [
       "       appId       date      target   mauReal  category   ratings  \\\n",
       "0      33540 2024-01-01  346352.125  1.000000         1  0.510261   \n",
       "1      33540 2024-01-02  346352.125  1.000000         1  0.510938   \n",
       "2      31679 2024-01-01  157532.000  0.741045         1  0.633285   \n",
       "3      31679 2024-01-02  313847.000  0.741076         1  0.633586   \n",
       "4      77385 2024-01-01  239768.000  1.000000         1  0.449806   \n",
       "...      ...        ...         ...       ...       ...       ...   \n",
       "36931  16773 2024-09-30  346352.125  1.000000         1  0.346762   \n",
       "36932  91093 2024-09-30  346352.125  1.000000         1  0.484893   \n",
       "36933  39058 2024-09-30   16980.000  0.064101         1  0.005872   \n",
       "36934  79754 2024-09-30    7996.000  0.068639         3  0.311208   \n",
       "36935  91390 2024-09-30   33028.000  0.095028         0  0.386401   \n",
       "\n",
       "       daily_ratings   reviews  daily_reviews  newinstalls  predictionLoss  \n",
       "0           1.000000  0.698710          1.000     1.000000        0.397742  \n",
       "1           1.000000  0.699102          1.000     1.000000        0.487292  \n",
       "2           0.845996  1.000000          0.825     0.349401        0.197556  \n",
       "3           1.000000  1.000000          0.700     0.348916        0.279270  \n",
       "4           1.000000  0.677152          0.975     0.507279        0.208383  \n",
       "...              ...       ...            ...          ...             ...  \n",
       "36931       0.981520  0.670885          1.000     0.965545        0.320049  \n",
       "36932       1.000000  0.963258          1.000     0.923649        0.360468  \n",
       "36933       0.336756  0.010137          0.450     0.044969        0.071248  \n",
       "36934       1.000000  0.078638          0.725     0.092365        0.398773  \n",
       "36935       0.427105  0.950451          0.825     0.114203        0.715987  \n",
       "\n",
       "[36936 rows x 11 columns]"
      ]
     },
     "execution_count": 107,
     "metadata": {},
     "output_type": "execute_result"
    }
   ],
   "source": [
    "df_final"
   ]
  },
  {
   "cell_type": "code",
   "execution_count": 78,
   "metadata": {},
   "outputs": [],
   "source": [
    "# Identificando colunas numéricas e categóricas\n",
    "numerical_cols = df_final.select_dtypes(include=[\"float64\", \"int64\"]).columns\n",
    "numerical_cols = [col for col in numerical_cols if col != 'target']\n",
    "\n",
    "categorical_cols = ['category']"
   ]
  },
  {
   "cell_type": "code",
   "execution_count": 65,
   "metadata": {},
   "outputs": [],
   "source": [
    "# Tratando valores ausentes em variáveis numéricas\n",
    "for col in numerical_cols:\n",
    "    median_value = df_final[col].median()\n",
    "    df_final[col] = df_final[col].fillna(median_value)"
   ]
  },
  {
   "cell_type": "code",
   "execution_count": 71,
   "metadata": {},
   "outputs": [
    {
     "name": "stdout",
     "output_type": "stream",
     "text": [
      "Valores ausentes após tratamento:\n",
      "appId             0\n",
      "date              0\n",
      "target            0\n",
      "mauReal           0\n",
      "category          0\n",
      "ratings           0\n",
      "daily_ratings     0\n",
      "reviews           0\n",
      "daily_reviews     0\n",
      "newinstalls       0\n",
      "predictionLoss    0\n",
      "dtype: int64\n"
     ]
    }
   ],
   "source": [
    "# Verificando novamente valores ausentes\n",
    "print(\"Valores ausentes após tratamento:\")\n",
    "print(df_final.isnull().sum())"
   ]
  },
  {
   "cell_type": "code",
   "execution_count": 72,
   "metadata": {},
   "outputs": [
    {
     "name": "stdout",
     "output_type": "stream",
     "text": [
      "            mauReal        ratings  daily_ratings        reviews  \\\n",
      "count  3.693600e+04   36936.000000   36936.000000   36936.000000   \n",
      "mean   5.804298e+05  119016.181408      46.191101   33774.087516   \n",
      "std    6.550275e+05  149494.956403      61.711578   41422.207528   \n",
      "min    7.660000e+02      19.000000     -74.000000      11.000000   \n",
      "25%    9.232850e+04    9014.750000       2.000000    3173.000000   \n",
      "50%    2.555525e+05   46164.000000      13.000000   15279.500000   \n",
      "75%    7.835920e+05  180878.750000      69.000000   48944.000000   \n",
      "max    1.820487e+06  438674.750000     169.500000  117600.500000   \n",
      "\n",
      "       daily_reviews   newinstalls  predictionLoss  \n",
      "count   36936.000000  36936.000000    36936.000000  \n",
      "mean        7.355859   1831.221545     6647.396957  \n",
      "std         9.231999   2066.793732     6359.744470  \n",
      "min       -14.000000      0.000000      455.000000  \n",
      "25%         1.000000    307.000000     1797.000000  \n",
      "50%         3.000000    875.000000     4058.500000  \n",
      "75%        11.000000   2657.000000     9019.000000  \n",
      "max        26.000000   6182.000000    19852.000000  \n"
     ]
    }
   ],
   "source": [
    "# Aplicando o tratamento em todas as variáveis numéricas\n",
    "for col in numerical_cols:\n",
    "    treat_outliers_iqr(df_final, col)\n",
    "\n",
    "# Verificação: estatísticas descritivas após o tratamento\n",
    "print(df_final[numerical_cols].describe())"
   ]
  },
  {
   "cell_type": "code",
   "execution_count": 82,
   "metadata": {},
   "outputs": [],
   "source": [
    "# Aplicando MinMaxScaler\n",
    "scaler = MinMaxScaler()\n",
    "df_final[numerical_cols] = scaler.fit_transform(df_final[numerical_cols])"
   ]
  },
  {
   "cell_type": "code",
   "execution_count": 87,
   "metadata": {},
   "outputs": [],
   "source": [
    "from sklearn.preprocessing import LabelEncoder\n",
    "\n",
    "# Verificando se appId é relevante\n",
    "# Caso decida utilizar appId, vamos aplicar Label Encoding para transformá-lo em número\n",
    "encoder = LabelEncoder()\n",
    "df_final[\"category\"] = encoder.fit_transform(df_final['category'])"
   ]
  },
  {
   "cell_type": "code",
   "execution_count": null,
   "metadata": {},
   "outputs": [],
   "source": [
    "# Removendo a parte 'com.app.' do 'appId' e deixando apenas o número\n",
    "df_final['appId'] = df_final['appId'].str.replace('com.app.', '', regex=False)\n",
    "\n",
    "# Convertendo para inteiro (ou float, dependendo do seu caso)\n",
    "df_final['appId'] = df_final['appId'].astype(int)"
   ]
  },
  {
   "cell_type": "code",
   "execution_count": 90,
   "metadata": {},
   "outputs": [
    {
     "data": {
      "text/html": [
       "<div>\n",
       "<style scoped>\n",
       "    .dataframe tbody tr th:only-of-type {\n",
       "        vertical-align: middle;\n",
       "    }\n",
       "\n",
       "    .dataframe tbody tr th {\n",
       "        vertical-align: top;\n",
       "    }\n",
       "\n",
       "    .dataframe thead th {\n",
       "        text-align: right;\n",
       "    }\n",
       "</style>\n",
       "<table border=\"1\" class=\"dataframe\">\n",
       "  <thead>\n",
       "    <tr style=\"text-align: right;\">\n",
       "      <th></th>\n",
       "      <th>appId</th>\n",
       "      <th>date</th>\n",
       "      <th>target</th>\n",
       "      <th>mauReal</th>\n",
       "      <th>category</th>\n",
       "      <th>ratings</th>\n",
       "      <th>daily_ratings</th>\n",
       "      <th>reviews</th>\n",
       "      <th>daily_reviews</th>\n",
       "      <th>newinstalls</th>\n",
       "      <th>predictionLoss</th>\n",
       "    </tr>\n",
       "  </thead>\n",
       "  <tbody>\n",
       "    <tr>\n",
       "      <th>0</th>\n",
       "      <td>33540</td>\n",
       "      <td>2024-01-01</td>\n",
       "      <td>346352.125</td>\n",
       "      <td>1.000000</td>\n",
       "      <td>1</td>\n",
       "      <td>0.510261</td>\n",
       "      <td>1.000000</td>\n",
       "      <td>0.698710</td>\n",
       "      <td>1.000</td>\n",
       "      <td>1.000000</td>\n",
       "      <td>0.397742</td>\n",
       "    </tr>\n",
       "    <tr>\n",
       "      <th>1</th>\n",
       "      <td>33540</td>\n",
       "      <td>2024-01-02</td>\n",
       "      <td>346352.125</td>\n",
       "      <td>1.000000</td>\n",
       "      <td>1</td>\n",
       "      <td>0.510938</td>\n",
       "      <td>1.000000</td>\n",
       "      <td>0.699102</td>\n",
       "      <td>1.000</td>\n",
       "      <td>1.000000</td>\n",
       "      <td>0.487292</td>\n",
       "    </tr>\n",
       "    <tr>\n",
       "      <th>2</th>\n",
       "      <td>31679</td>\n",
       "      <td>2024-01-01</td>\n",
       "      <td>157532.000</td>\n",
       "      <td>0.741045</td>\n",
       "      <td>1</td>\n",
       "      <td>0.633285</td>\n",
       "      <td>0.845996</td>\n",
       "      <td>1.000000</td>\n",
       "      <td>0.825</td>\n",
       "      <td>0.349401</td>\n",
       "      <td>0.197556</td>\n",
       "    </tr>\n",
       "    <tr>\n",
       "      <th>3</th>\n",
       "      <td>31679</td>\n",
       "      <td>2024-01-02</td>\n",
       "      <td>313847.000</td>\n",
       "      <td>0.741076</td>\n",
       "      <td>1</td>\n",
       "      <td>0.633586</td>\n",
       "      <td>1.000000</td>\n",
       "      <td>1.000000</td>\n",
       "      <td>0.700</td>\n",
       "      <td>0.348916</td>\n",
       "      <td>0.279270</td>\n",
       "    </tr>\n",
       "    <tr>\n",
       "      <th>4</th>\n",
       "      <td>77385</td>\n",
       "      <td>2024-01-01</td>\n",
       "      <td>239768.000</td>\n",
       "      <td>1.000000</td>\n",
       "      <td>1</td>\n",
       "      <td>0.449806</td>\n",
       "      <td>1.000000</td>\n",
       "      <td>0.677152</td>\n",
       "      <td>0.975</td>\n",
       "      <td>0.507279</td>\n",
       "      <td>0.208383</td>\n",
       "    </tr>\n",
       "    <tr>\n",
       "      <th>...</th>\n",
       "      <td>...</td>\n",
       "      <td>...</td>\n",
       "      <td>...</td>\n",
       "      <td>...</td>\n",
       "      <td>...</td>\n",
       "      <td>...</td>\n",
       "      <td>...</td>\n",
       "      <td>...</td>\n",
       "      <td>...</td>\n",
       "      <td>...</td>\n",
       "      <td>...</td>\n",
       "    </tr>\n",
       "    <tr>\n",
       "      <th>36931</th>\n",
       "      <td>16773</td>\n",
       "      <td>2024-09-30</td>\n",
       "      <td>346352.125</td>\n",
       "      <td>1.000000</td>\n",
       "      <td>1</td>\n",
       "      <td>0.346762</td>\n",
       "      <td>0.981520</td>\n",
       "      <td>0.670885</td>\n",
       "      <td>1.000</td>\n",
       "      <td>0.965545</td>\n",
       "      <td>0.320049</td>\n",
       "    </tr>\n",
       "    <tr>\n",
       "      <th>36932</th>\n",
       "      <td>91093</td>\n",
       "      <td>2024-09-30</td>\n",
       "      <td>346352.125</td>\n",
       "      <td>1.000000</td>\n",
       "      <td>1</td>\n",
       "      <td>0.484893</td>\n",
       "      <td>1.000000</td>\n",
       "      <td>0.963258</td>\n",
       "      <td>1.000</td>\n",
       "      <td>0.923649</td>\n",
       "      <td>0.360468</td>\n",
       "    </tr>\n",
       "    <tr>\n",
       "      <th>36933</th>\n",
       "      <td>39058</td>\n",
       "      <td>2024-09-30</td>\n",
       "      <td>16980.000</td>\n",
       "      <td>0.064101</td>\n",
       "      <td>1</td>\n",
       "      <td>0.005872</td>\n",
       "      <td>0.336756</td>\n",
       "      <td>0.010137</td>\n",
       "      <td>0.450</td>\n",
       "      <td>0.044969</td>\n",
       "      <td>0.071248</td>\n",
       "    </tr>\n",
       "    <tr>\n",
       "      <th>36934</th>\n",
       "      <td>79754</td>\n",
       "      <td>2024-09-30</td>\n",
       "      <td>7996.000</td>\n",
       "      <td>0.068639</td>\n",
       "      <td>3</td>\n",
       "      <td>0.311208</td>\n",
       "      <td>1.000000</td>\n",
       "      <td>0.078638</td>\n",
       "      <td>0.725</td>\n",
       "      <td>0.092365</td>\n",
       "      <td>0.398773</td>\n",
       "    </tr>\n",
       "    <tr>\n",
       "      <th>36935</th>\n",
       "      <td>91390</td>\n",
       "      <td>2024-09-30</td>\n",
       "      <td>33028.000</td>\n",
       "      <td>0.095028</td>\n",
       "      <td>0</td>\n",
       "      <td>0.386401</td>\n",
       "      <td>0.427105</td>\n",
       "      <td>0.950451</td>\n",
       "      <td>0.825</td>\n",
       "      <td>0.114203</td>\n",
       "      <td>0.715987</td>\n",
       "    </tr>\n",
       "  </tbody>\n",
       "</table>\n",
       "<p>36936 rows × 11 columns</p>\n",
       "</div>"
      ],
      "text/plain": [
       "       appId       date      target   mauReal  category   ratings  \\\n",
       "0      33540 2024-01-01  346352.125  1.000000         1  0.510261   \n",
       "1      33540 2024-01-02  346352.125  1.000000         1  0.510938   \n",
       "2      31679 2024-01-01  157532.000  0.741045         1  0.633285   \n",
       "3      31679 2024-01-02  313847.000  0.741076         1  0.633586   \n",
       "4      77385 2024-01-01  239768.000  1.000000         1  0.449806   \n",
       "...      ...        ...         ...       ...       ...       ...   \n",
       "36931  16773 2024-09-30  346352.125  1.000000         1  0.346762   \n",
       "36932  91093 2024-09-30  346352.125  1.000000         1  0.484893   \n",
       "36933  39058 2024-09-30   16980.000  0.064101         1  0.005872   \n",
       "36934  79754 2024-09-30    7996.000  0.068639         3  0.311208   \n",
       "36935  91390 2024-09-30   33028.000  0.095028         0  0.386401   \n",
       "\n",
       "       daily_ratings   reviews  daily_reviews  newinstalls  predictionLoss  \n",
       "0           1.000000  0.698710          1.000     1.000000        0.397742  \n",
       "1           1.000000  0.699102          1.000     1.000000        0.487292  \n",
       "2           0.845996  1.000000          0.825     0.349401        0.197556  \n",
       "3           1.000000  1.000000          0.700     0.348916        0.279270  \n",
       "4           1.000000  0.677152          0.975     0.507279        0.208383  \n",
       "...              ...       ...            ...          ...             ...  \n",
       "36931       0.981520  0.670885          1.000     0.965545        0.320049  \n",
       "36932       1.000000  0.963258          1.000     0.923649        0.360468  \n",
       "36933       0.336756  0.010137          0.450     0.044969        0.071248  \n",
       "36934       1.000000  0.078638          0.725     0.092365        0.398773  \n",
       "36935       0.427105  0.950451          0.825     0.114203        0.715987  \n",
       "\n",
       "[36936 rows x 11 columns]"
      ]
     },
     "execution_count": 90,
     "metadata": {},
     "output_type": "execute_result"
    }
   ],
   "source": [
    "df_final"
   ]
  },
  {
   "cell_type": "code",
   "execution_count": 106,
   "metadata": {},
   "outputs": [
    {
     "data": {
      "text/html": [
       "<div>\n",
       "<style scoped>\n",
       "    .dataframe tbody tr th:only-of-type {\n",
       "        vertical-align: middle;\n",
       "    }\n",
       "\n",
       "    .dataframe tbody tr th {\n",
       "        vertical-align: top;\n",
       "    }\n",
       "\n",
       "    .dataframe thead th {\n",
       "        text-align: right;\n",
       "    }\n",
       "</style>\n",
       "<table border=\"1\" class=\"dataframe\">\n",
       "  <thead>\n",
       "    <tr style=\"text-align: right;\">\n",
       "      <th></th>\n",
       "      <th>appId</th>\n",
       "      <th>date</th>\n",
       "      <th>target</th>\n",
       "      <th>mauReal</th>\n",
       "      <th>category</th>\n",
       "      <th>ratings</th>\n",
       "      <th>daily_ratings</th>\n",
       "      <th>reviews</th>\n",
       "      <th>daily_reviews</th>\n",
       "      <th>newinstalls</th>\n",
       "      <th>predictionLoss</th>\n",
       "    </tr>\n",
       "  </thead>\n",
       "  <tbody>\n",
       "    <tr>\n",
       "      <th>0</th>\n",
       "      <td>33540</td>\n",
       "      <td>2024-01-01</td>\n",
       "      <td>346352.125</td>\n",
       "      <td>1.000000</td>\n",
       "      <td>1</td>\n",
       "      <td>0.510261</td>\n",
       "      <td>1.000000</td>\n",
       "      <td>0.698710</td>\n",
       "      <td>1.000</td>\n",
       "      <td>1.000000</td>\n",
       "      <td>0.397742</td>\n",
       "    </tr>\n",
       "    <tr>\n",
       "      <th>1</th>\n",
       "      <td>33540</td>\n",
       "      <td>2024-01-02</td>\n",
       "      <td>346352.125</td>\n",
       "      <td>1.000000</td>\n",
       "      <td>1</td>\n",
       "      <td>0.510938</td>\n",
       "      <td>1.000000</td>\n",
       "      <td>0.699102</td>\n",
       "      <td>1.000</td>\n",
       "      <td>1.000000</td>\n",
       "      <td>0.487292</td>\n",
       "    </tr>\n",
       "    <tr>\n",
       "      <th>2</th>\n",
       "      <td>31679</td>\n",
       "      <td>2024-01-01</td>\n",
       "      <td>157532.000</td>\n",
       "      <td>0.741045</td>\n",
       "      <td>1</td>\n",
       "      <td>0.633285</td>\n",
       "      <td>0.845996</td>\n",
       "      <td>1.000000</td>\n",
       "      <td>0.825</td>\n",
       "      <td>0.349401</td>\n",
       "      <td>0.197556</td>\n",
       "    </tr>\n",
       "    <tr>\n",
       "      <th>3</th>\n",
       "      <td>31679</td>\n",
       "      <td>2024-01-02</td>\n",
       "      <td>313847.000</td>\n",
       "      <td>0.741076</td>\n",
       "      <td>1</td>\n",
       "      <td>0.633586</td>\n",
       "      <td>1.000000</td>\n",
       "      <td>1.000000</td>\n",
       "      <td>0.700</td>\n",
       "      <td>0.348916</td>\n",
       "      <td>0.279270</td>\n",
       "    </tr>\n",
       "    <tr>\n",
       "      <th>4</th>\n",
       "      <td>77385</td>\n",
       "      <td>2024-01-01</td>\n",
       "      <td>239768.000</td>\n",
       "      <td>1.000000</td>\n",
       "      <td>1</td>\n",
       "      <td>0.449806</td>\n",
       "      <td>1.000000</td>\n",
       "      <td>0.677152</td>\n",
       "      <td>0.975</td>\n",
       "      <td>0.507279</td>\n",
       "      <td>0.208383</td>\n",
       "    </tr>\n",
       "    <tr>\n",
       "      <th>...</th>\n",
       "      <td>...</td>\n",
       "      <td>...</td>\n",
       "      <td>...</td>\n",
       "      <td>...</td>\n",
       "      <td>...</td>\n",
       "      <td>...</td>\n",
       "      <td>...</td>\n",
       "      <td>...</td>\n",
       "      <td>...</td>\n",
       "      <td>...</td>\n",
       "      <td>...</td>\n",
       "    </tr>\n",
       "    <tr>\n",
       "      <th>36931</th>\n",
       "      <td>16773</td>\n",
       "      <td>2024-09-30</td>\n",
       "      <td>346352.125</td>\n",
       "      <td>1.000000</td>\n",
       "      <td>1</td>\n",
       "      <td>0.346762</td>\n",
       "      <td>0.981520</td>\n",
       "      <td>0.670885</td>\n",
       "      <td>1.000</td>\n",
       "      <td>0.965545</td>\n",
       "      <td>0.320049</td>\n",
       "    </tr>\n",
       "    <tr>\n",
       "      <th>36932</th>\n",
       "      <td>91093</td>\n",
       "      <td>2024-09-30</td>\n",
       "      <td>346352.125</td>\n",
       "      <td>1.000000</td>\n",
       "      <td>1</td>\n",
       "      <td>0.484893</td>\n",
       "      <td>1.000000</td>\n",
       "      <td>0.963258</td>\n",
       "      <td>1.000</td>\n",
       "      <td>0.923649</td>\n",
       "      <td>0.360468</td>\n",
       "    </tr>\n",
       "    <tr>\n",
       "      <th>36933</th>\n",
       "      <td>39058</td>\n",
       "      <td>2024-09-30</td>\n",
       "      <td>16980.000</td>\n",
       "      <td>0.064101</td>\n",
       "      <td>1</td>\n",
       "      <td>0.005872</td>\n",
       "      <td>0.336756</td>\n",
       "      <td>0.010137</td>\n",
       "      <td>0.450</td>\n",
       "      <td>0.044969</td>\n",
       "      <td>0.071248</td>\n",
       "    </tr>\n",
       "    <tr>\n",
       "      <th>36934</th>\n",
       "      <td>79754</td>\n",
       "      <td>2024-09-30</td>\n",
       "      <td>7996.000</td>\n",
       "      <td>0.068639</td>\n",
       "      <td>3</td>\n",
       "      <td>0.311208</td>\n",
       "      <td>1.000000</td>\n",
       "      <td>0.078638</td>\n",
       "      <td>0.725</td>\n",
       "      <td>0.092365</td>\n",
       "      <td>0.398773</td>\n",
       "    </tr>\n",
       "    <tr>\n",
       "      <th>36935</th>\n",
       "      <td>91390</td>\n",
       "      <td>2024-09-30</td>\n",
       "      <td>33028.000</td>\n",
       "      <td>0.095028</td>\n",
       "      <td>0</td>\n",
       "      <td>0.386401</td>\n",
       "      <td>0.427105</td>\n",
       "      <td>0.950451</td>\n",
       "      <td>0.825</td>\n",
       "      <td>0.114203</td>\n",
       "      <td>0.715987</td>\n",
       "    </tr>\n",
       "  </tbody>\n",
       "</table>\n",
       "<p>36936 rows × 11 columns</p>\n",
       "</div>"
      ],
      "text/plain": [
       "       appId       date      target   mauReal  category   ratings  \\\n",
       "0      33540 2024-01-01  346352.125  1.000000         1  0.510261   \n",
       "1      33540 2024-01-02  346352.125  1.000000         1  0.510938   \n",
       "2      31679 2024-01-01  157532.000  0.741045         1  0.633285   \n",
       "3      31679 2024-01-02  313847.000  0.741076         1  0.633586   \n",
       "4      77385 2024-01-01  239768.000  1.000000         1  0.449806   \n",
       "...      ...        ...         ...       ...       ...       ...   \n",
       "36931  16773 2024-09-30  346352.125  1.000000         1  0.346762   \n",
       "36932  91093 2024-09-30  346352.125  1.000000         1  0.484893   \n",
       "36933  39058 2024-09-30   16980.000  0.064101         1  0.005872   \n",
       "36934  79754 2024-09-30    7996.000  0.068639         3  0.311208   \n",
       "36935  91390 2024-09-30   33028.000  0.095028         0  0.386401   \n",
       "\n",
       "       daily_ratings   reviews  daily_reviews  newinstalls  predictionLoss  \n",
       "0           1.000000  0.698710          1.000     1.000000        0.397742  \n",
       "1           1.000000  0.699102          1.000     1.000000        0.487292  \n",
       "2           0.845996  1.000000          0.825     0.349401        0.197556  \n",
       "3           1.000000  1.000000          0.700     0.348916        0.279270  \n",
       "4           1.000000  0.677152          0.975     0.507279        0.208383  \n",
       "...              ...       ...            ...          ...             ...  \n",
       "36931       0.981520  0.670885          1.000     0.965545        0.320049  \n",
       "36932       1.000000  0.963258          1.000     0.923649        0.360468  \n",
       "36933       0.336756  0.010137          0.450     0.044969        0.071248  \n",
       "36934       1.000000  0.078638          0.725     0.092365        0.398773  \n",
       "36935       0.427105  0.950451          0.825     0.114203        0.715987  \n",
       "\n",
       "[36936 rows x 11 columns]"
      ]
     },
     "execution_count": 106,
     "metadata": {},
     "output_type": "execute_result"
    }
   ],
   "source": [
    "df_final"
   ]
  },
  {
   "cell_type": "code",
   "execution_count": 92,
   "metadata": {},
   "outputs": [],
   "source": [
    "X = df_final.drop(columns=[\"target\"])  # Variáveis independentes\n",
    "y = df_final[\"target\"]  # Variável dependente (target)"
   ]
  },
  {
   "cell_type": "code",
   "execution_count": 94,
   "metadata": {},
   "outputs": [],
   "source": [
    "# Dividindo entre treino + validação (80%) e teste (20%)\n",
    "X_train_val, X_test, y_train_val, y_test = train_test_split(X, y, test_size=0.2, random_state=42)\n",
    "\n",
    "# Agora, dividindo treino + validação entre treino (80%) e validação (20%)\n",
    "X_train, X_val, y_train, y_val = train_test_split(X_train_val, y_train_val, test_size=0.2, random_state=42)\n"
   ]
  },
  {
   "cell_type": "code",
   "execution_count": 95,
   "metadata": {},
   "outputs": [],
   "source": [
    "# Calculando o tamanho total\n",
    "total_size = len(df_final)\n",
    "\n",
    "# Calculando o tamanho de cada conjunto e suas porcentagens\n",
    "train_size = len(X_train)\n",
    "val_size = len(X_val)\n",
    "test_size = len(X_test)\n",
    "\n",
    "train_percentage = (train_size / total_size) * 100\n",
    "val_percentage = (val_size / total_size) * 100\n",
    "test_percentage = (test_size / total_size) * 100"
   ]
  },
  {
   "cell_type": "code",
   "execution_count": 96,
   "metadata": {},
   "outputs": [
    {
     "name": "stdout",
     "output_type": "stream",
     "text": [
      "Tamanho total do conjunto de dados: 36936 registros\n",
      "Tamanho do conjunto de treinamento: 23638 registros (64.00%)\n",
      "Tamanho do conjunto de validação: 5910 registros (16.00%)\n",
      "Tamanho do conjunto de teste: 7388 registros (20.00%)\n"
     ]
    }
   ],
   "source": [
    "# Exibindo as porcentagens\n",
    "print(f\"Tamanho total do conjunto de dados: {total_size} registros\")\n",
    "print(f\"Tamanho do conjunto de treinamento: {train_size} registros ({train_percentage:.2f}%)\")\n",
    "print(f\"Tamanho do conjunto de validação: {val_size} registros ({val_percentage:.2f}%)\")\n",
    "print(f\"Tamanho do conjunto de teste: {test_size} registros ({test_percentage:.2f}%)\")\n"
   ]
  },
  {
   "cell_type": "markdown",
   "metadata": {},
   "source": [
    "#### Exportando os dados para CSV\n"
   ]
  },
  {
   "cell_type": "code",
   "execution_count": 99,
   "metadata": {},
   "outputs": [],
   "source": [
    "# Concatenando X com y para salvar tudo em um único arquivo\n",
    "train_df = pd.concat([X_train, y_train], axis=1)\n",
    "val_df = pd.concat([X_val, y_val], axis=1)\n",
    "test_df = pd.concat([X_test, y_test], axis=1)"
   ]
  },
  {
   "cell_type": "code",
   "execution_count": 104,
   "metadata": {},
   "outputs": [],
   "source": [
    "# Exportando para CSV\n",
    "train_df.to_csv('train_data.csv', index=False, encoding='utf-8')\n",
    "val_df.to_csv('val_data.csv', index=False, encoding='utf-8')\n",
    "test_df.to_csv('test_data.csv', index=False, encoding='utf-8')\n",
    "\n",
    "\n"
   ]
  },
  {
   "cell_type": "code",
   "execution_count": 105,
   "metadata": {},
   "outputs": [
    {
     "data": {
      "text/html": [
       "<div>\n",
       "<style scoped>\n",
       "    .dataframe tbody tr th:only-of-type {\n",
       "        vertical-align: middle;\n",
       "    }\n",
       "\n",
       "    .dataframe tbody tr th {\n",
       "        vertical-align: top;\n",
       "    }\n",
       "\n",
       "    .dataframe thead th {\n",
       "        text-align: right;\n",
       "    }\n",
       "</style>\n",
       "<table border=\"1\" class=\"dataframe\">\n",
       "  <thead>\n",
       "    <tr style=\"text-align: right;\">\n",
       "      <th></th>\n",
       "      <th>appId</th>\n",
       "      <th>date</th>\n",
       "      <th>mauReal</th>\n",
       "      <th>category</th>\n",
       "      <th>ratings</th>\n",
       "      <th>daily_ratings</th>\n",
       "      <th>reviews</th>\n",
       "      <th>daily_reviews</th>\n",
       "      <th>newinstalls</th>\n",
       "      <th>predictionLoss</th>\n",
       "      <th>target</th>\n",
       "    </tr>\n",
       "  </thead>\n",
       "  <tbody>\n",
       "    <tr>\n",
       "      <th>2410</th>\n",
       "      <td>82896</td>\n",
       "      <td>2024-01-18</td>\n",
       "      <td>0.113072</td>\n",
       "      <td>1</td>\n",
       "      <td>0.038107</td>\n",
       "      <td>0.669405</td>\n",
       "      <td>0.029986</td>\n",
       "      <td>0.600</td>\n",
       "      <td>0.196700</td>\n",
       "      <td>0.247513</td>\n",
       "      <td>22964.000</td>\n",
       "    </tr>\n",
       "    <tr>\n",
       "      <th>232</th>\n",
       "      <td>72653</td>\n",
       "      <td>2024-01-01</td>\n",
       "      <td>0.061111</td>\n",
       "      <td>1</td>\n",
       "      <td>0.082197</td>\n",
       "      <td>0.312115</td>\n",
       "      <td>0.129825</td>\n",
       "      <td>0.400</td>\n",
       "      <td>0.166613</td>\n",
       "      <td>0.054699</td>\n",
       "      <td>15223.000</td>\n",
       "    </tr>\n",
       "    <tr>\n",
       "      <th>20517</th>\n",
       "      <td>94251</td>\n",
       "      <td>2024-05-31</td>\n",
       "      <td>0.133892</td>\n",
       "      <td>1</td>\n",
       "      <td>0.159708</td>\n",
       "      <td>0.340862</td>\n",
       "      <td>0.151417</td>\n",
       "      <td>0.375</td>\n",
       "      <td>0.265448</td>\n",
       "      <td>0.060370</td>\n",
       "      <td>56639.000</td>\n",
       "    </tr>\n",
       "    <tr>\n",
       "      <th>15694</th>\n",
       "      <td>54019</td>\n",
       "      <td>2024-04-26</td>\n",
       "      <td>0.028717</td>\n",
       "      <td>4</td>\n",
       "      <td>0.005262</td>\n",
       "      <td>0.308008</td>\n",
       "      <td>0.002415</td>\n",
       "      <td>0.350</td>\n",
       "      <td>0.053381</td>\n",
       "      <td>0.205908</td>\n",
       "      <td>4192.000</td>\n",
       "    </tr>\n",
       "    <tr>\n",
       "      <th>5441</th>\n",
       "      <td>50760</td>\n",
       "      <td>2024-02-10</td>\n",
       "      <td>0.096528</td>\n",
       "      <td>0</td>\n",
       "      <td>0.134800</td>\n",
       "      <td>0.349076</td>\n",
       "      <td>0.094779</td>\n",
       "      <td>0.350</td>\n",
       "      <td>0.043999</td>\n",
       "      <td>0.009641</td>\n",
       "      <td>29743.000</td>\n",
       "    </tr>\n",
       "    <tr>\n",
       "      <th>...</th>\n",
       "      <td>...</td>\n",
       "      <td>...</td>\n",
       "      <td>...</td>\n",
       "      <td>...</td>\n",
       "      <td>...</td>\n",
       "      <td>...</td>\n",
       "      <td>...</td>\n",
       "      <td>...</td>\n",
       "      <td>...</td>\n",
       "      <td>...</td>\n",
       "      <td>...</td>\n",
       "    </tr>\n",
       "    <tr>\n",
       "      <th>1782</th>\n",
       "      <td>88516</td>\n",
       "      <td>2024-01-15</td>\n",
       "      <td>0.008172</td>\n",
       "      <td>3</td>\n",
       "      <td>0.005565</td>\n",
       "      <td>0.312115</td>\n",
       "      <td>0.002577</td>\n",
       "      <td>0.350</td>\n",
       "      <td>0.093174</td>\n",
       "      <td>0.383616</td>\n",
       "      <td>1374.000</td>\n",
       "    </tr>\n",
       "    <tr>\n",
       "      <th>27415</th>\n",
       "      <td>85803</td>\n",
       "      <td>2024-07-23</td>\n",
       "      <td>0.039924</td>\n",
       "      <td>0</td>\n",
       "      <td>0.009333</td>\n",
       "      <td>0.320329</td>\n",
       "      <td>0.008096</td>\n",
       "      <td>0.350</td>\n",
       "      <td>0.015691</td>\n",
       "      <td>0.022942</td>\n",
       "      <td>6586.000</td>\n",
       "    </tr>\n",
       "    <tr>\n",
       "      <th>11451</th>\n",
       "      <td>36257</td>\n",
       "      <td>2024-03-26</td>\n",
       "      <td>1.000000</td>\n",
       "      <td>0</td>\n",
       "      <td>0.232722</td>\n",
       "      <td>0.603696</td>\n",
       "      <td>0.508353</td>\n",
       "      <td>1.000</td>\n",
       "      <td>1.000000</td>\n",
       "      <td>0.406197</td>\n",
       "      <td>346352.125</td>\n",
       "    </tr>\n",
       "    <tr>\n",
       "      <th>4316</th>\n",
       "      <td>80525</td>\n",
       "      <td>2024-02-02</td>\n",
       "      <td>0.119423</td>\n",
       "      <td>1</td>\n",
       "      <td>0.655637</td>\n",
       "      <td>0.266940</td>\n",
       "      <td>1.000000</td>\n",
       "      <td>0.225</td>\n",
       "      <td>0.123746</td>\n",
       "      <td>0.235500</td>\n",
       "      <td>12702.000</td>\n",
       "    </tr>\n",
       "    <tr>\n",
       "      <th>28464</th>\n",
       "      <td>61743</td>\n",
       "      <td>2024-07-31</td>\n",
       "      <td>0.240146</td>\n",
       "      <td>4</td>\n",
       "      <td>0.498352</td>\n",
       "      <td>0.620123</td>\n",
       "      <td>0.416993</td>\n",
       "      <td>0.475</td>\n",
       "      <td>0.159010</td>\n",
       "      <td>0.229984</td>\n",
       "      <td>54231.000</td>\n",
       "    </tr>\n",
       "  </tbody>\n",
       "</table>\n",
       "<p>23638 rows × 11 columns</p>\n",
       "</div>"
      ],
      "text/plain": [
       "       appId       date   mauReal  category   ratings  daily_ratings  \\\n",
       "2410   82896 2024-01-18  0.113072         1  0.038107       0.669405   \n",
       "232    72653 2024-01-01  0.061111         1  0.082197       0.312115   \n",
       "20517  94251 2024-05-31  0.133892         1  0.159708       0.340862   \n",
       "15694  54019 2024-04-26  0.028717         4  0.005262       0.308008   \n",
       "5441   50760 2024-02-10  0.096528         0  0.134800       0.349076   \n",
       "...      ...        ...       ...       ...       ...            ...   \n",
       "1782   88516 2024-01-15  0.008172         3  0.005565       0.312115   \n",
       "27415  85803 2024-07-23  0.039924         0  0.009333       0.320329   \n",
       "11451  36257 2024-03-26  1.000000         0  0.232722       0.603696   \n",
       "4316   80525 2024-02-02  0.119423         1  0.655637       0.266940   \n",
       "28464  61743 2024-07-31  0.240146         4  0.498352       0.620123   \n",
       "\n",
       "        reviews  daily_reviews  newinstalls  predictionLoss      target  \n",
       "2410   0.029986          0.600     0.196700        0.247513   22964.000  \n",
       "232    0.129825          0.400     0.166613        0.054699   15223.000  \n",
       "20517  0.151417          0.375     0.265448        0.060370   56639.000  \n",
       "15694  0.002415          0.350     0.053381        0.205908    4192.000  \n",
       "5441   0.094779          0.350     0.043999        0.009641   29743.000  \n",
       "...         ...            ...          ...             ...         ...  \n",
       "1782   0.002577          0.350     0.093174        0.383616    1374.000  \n",
       "27415  0.008096          0.350     0.015691        0.022942    6586.000  \n",
       "11451  0.508353          1.000     1.000000        0.406197  346352.125  \n",
       "4316   1.000000          0.225     0.123746        0.235500   12702.000  \n",
       "28464  0.416993          0.475     0.159010        0.229984   54231.000  \n",
       "\n",
       "[23638 rows x 11 columns]"
      ]
     },
     "execution_count": 105,
     "metadata": {},
     "output_type": "execute_result"
    }
   ],
   "source": [
    "train_df"
   ]
  }
 ],
 "metadata": {
  "kernelspec": {
   "display_name": "Python 3",
   "language": "python",
   "name": "python3"
  },
  "language_info": {
   "codemirror_mode": {
    "name": "ipython",
    "version": 3
   },
   "file_extension": ".py",
   "mimetype": "text/x-python",
   "name": "python",
   "nbconvert_exporter": "python",
   "pygments_lexer": "ipython3",
   "version": "3.11.9"
  }
 },
 "nbformat": 4,
 "nbformat_minor": 2
}
