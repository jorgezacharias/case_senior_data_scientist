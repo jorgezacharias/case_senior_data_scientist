{
 "cells": [
  {
   "cell_type": "code",
   "execution_count": 1,
   "metadata": {},
   "outputs": [
    {
     "name": "stdout",
     "output_type": "stream",
     "text": [
      "Defaulting to user installation because normal site-packages is not writeable\n",
      "Collecting mysql-connector-python\n",
      "  Downloading mysql_connector_python-9.1.0-cp312-cp312-win_amd64.whl.metadata (6.2 kB)\n",
      "Downloading mysql_connector_python-9.1.0-cp312-cp312-win_amd64.whl (16.1 MB)\n",
      "   ---------------------------------------- 0.0/16.1 MB ? eta -:--:--\n",
      "   ---------------------------------------- 0.0/16.1 MB ? eta -:--:--\n",
      "   ---------------------------------------- 0.0/16.1 MB 222.6 kB/s eta 0:01:13\n",
      "   ---------------------------------------- 0.1/16.1 MB 563.7 kB/s eta 0:00:29\n",
      "   - -------------------------------------- 0.4/16.1 MB 2.6 MB/s eta 0:00:06\n",
      "   -- ------------------------------------- 0.9/16.1 MB 3.9 MB/s eta 0:00:04\n",
      "   --- ------------------------------------ 1.6/16.1 MB 6.0 MB/s eta 0:00:03\n",
      "   ----- ---------------------------------- 2.3/16.1 MB 7.2 MB/s eta 0:00:02\n",
      "   ------ --------------------------------- 2.5/16.1 MB 7.1 MB/s eta 0:00:02\n",
      "   ------- -------------------------------- 3.1/16.1 MB 7.7 MB/s eta 0:00:02\n",
      "   --------- ------------------------------ 3.8/16.1 MB 8.1 MB/s eta 0:00:02\n",
      "   ----------- ---------------------------- 4.5/16.1 MB 8.8 MB/s eta 0:00:02\n",
      "   ------------- -------------------------- 5.3/16.1 MB 9.4 MB/s eta 0:00:02\n",
      "   -------------- ------------------------- 5.9/16.1 MB 9.9 MB/s eta 0:00:02\n",
      "   --------------- ------------------------ 6.3/16.1 MB 9.9 MB/s eta 0:00:01\n",
      "   ----------------- ---------------------- 7.2/16.1 MB 10.3 MB/s eta 0:00:01\n",
      "   ------------------- -------------------- 7.9/16.1 MB 10.7 MB/s eta 0:00:01\n",
      "   --------------------- ------------------ 8.7/16.1 MB 11.0 MB/s eta 0:00:01\n",
      "   ----------------------- ---------------- 9.5/16.1 MB 11.3 MB/s eta 0:00:01\n",
      "   ------------------------- -------------- 10.2/16.1 MB 11.3 MB/s eta 0:00:01\n",
      "   -------------------------- ------------- 10.8/16.1 MB 13.6 MB/s eta 0:00:01\n",
      "   ---------------------------- ----------- 11.4/16.1 MB 13.6 MB/s eta 0:00:01\n",
      "   ----------------------------- ---------- 11.7/16.1 MB 13.1 MB/s eta 0:00:01\n",
      "   ------------------------------ --------- 12.4/16.1 MB 13.6 MB/s eta 0:00:01\n",
      "   -------------------------------- ------- 13.1/16.1 MB 14.2 MB/s eta 0:00:01\n",
      "   --------------------------------- ------ 13.6/16.1 MB 13.9 MB/s eta 0:00:01\n",
      "   ----------------------------------- ---- 14.3/16.1 MB 14.2 MB/s eta 0:00:01\n",
      "   ------------------------------------- -- 15.1/16.1 MB 14.2 MB/s eta 0:00:01\n",
      "   ---------------------------------------  15.9/16.1 MB 13.9 MB/s eta 0:00:01\n",
      "   ---------------------------------------  16.1/16.1 MB 13.9 MB/s eta 0:00:01\n",
      "   ---------------------------------------  16.1/16.1 MB 13.9 MB/s eta 0:00:01\n",
      "   ---------------------------------------  16.1/16.1 MB 13.9 MB/s eta 0:00:01\n",
      "   ---------------------------------------- 16.1/16.1 MB 11.7 MB/s eta 0:00:00\n",
      "Installing collected packages: mysql-connector-python\n",
      "Successfully installed mysql-connector-python-9.1.0\n",
      "Note: you may need to restart the kernel to use updated packages.\n"
     ]
    },
    {
     "name": "stderr",
     "output_type": "stream",
     "text": [
      "\n",
      "[notice] A new release of pip is available: 24.0 -> 24.3.1\n",
      "[notice] To update, run: python.exe -m pip install --upgrade pip\n"
     ]
    }
   ],
   "source": [
    "pip install mysql-connector-python"
   ]
  },
  {
   "cell_type": "markdown",
   "metadata": {},
   "source": [
    "### Imports "
   ]
  },
  {
   "cell_type": "code",
   "execution_count": 7,
   "metadata": {},
   "outputs": [],
   "source": [
    "import mysql.connector\n",
    "\n",
    "import pandas as pd"
   ]
  },
  {
   "cell_type": "code",
   "execution_count": 2,
   "metadata": {},
   "outputs": [],
   "source": [
    "# Credenciais \n",
    "user = 'case_data_scientist'\n",
    "password = 'mP2KQ6vUzi(7siM*'\n",
    "host = '185.213.26.130'\n",
    "database = 'case_data_scientist'\n",
    "port = 6033"
   ]
  },
  {
   "cell_type": "code",
   "execution_count": 4,
   "metadata": {},
   "outputs": [],
   "source": [
    "conn = mysql.connector.connect(\n",
    "    user=user,\n",
    "    password=password,\n",
    "    host=host,\n",
    "    database=database,\n",
    "    port=port\n",
    ")"
   ]
  },
  {
   "cell_type": "code",
   "execution_count": null,
   "metadata": {},
   "outputs": [],
   "source": [
    "# Crie cursor para executar comandos SQL\n",
    "cursor = conn.cursor()\n",
    "\n",
    "# Consultar  para listar todas as tabelas no banco de dados\n",
    "cursor.execute(\"SHOW TABLES;\")\n",
    "tabelas = cursor.fetchall()"
   ]
  },
  {
   "cell_type": "code",
   "execution_count": null,
   "metadata": {},
   "outputs": [
    {
     "name": "stdout",
     "output_type": "stream",
     "text": [
      "Tabelas no banco de dados:\n",
      "daumau\n",
      "desinstalacoes\n",
      "installs\n",
      "ratings_reviews\n"
     ]
    }
   ],
   "source": [
    "# Exiba as tabelas encontradas\n",
    "print(\"Tabelas no banco de dados:\")\n",
    "for tabela in tabelas:\n",
    "    print(tabela[0])"
   ]
  },
  {
   "cell_type": "code",
   "execution_count": null,
   "metadata": {},
   "outputs": [],
   "source": []
  }
 ],
 "metadata": {
  "kernelspec": {
   "display_name": "Python 3",
   "language": "python",
   "name": "python3"
  },
  "language_info": {
   "codemirror_mode": {
    "name": "ipython",
    "version": 3
   },
   "file_extension": ".py",
   "mimetype": "text/x-python",
   "name": "python",
   "nbconvert_exporter": "python",
   "pygments_lexer": "ipython3",
   "version": "3.12.4"
  }
 },
 "nbformat": 4,
 "nbformat_minor": 2
}
